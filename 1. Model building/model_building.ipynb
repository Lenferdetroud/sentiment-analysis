{
 "cells": [
  {
   "cell_type": "code",
   "execution_count": 90,
   "metadata": {},
   "outputs": [
    {
     "name": "stderr",
     "output_type": "stream",
     "text": [
      "[nltk_data] Downloading package movie_reviews to\n",
      "[nltk_data]     /home/lenferdetroud/nltk_data...\n",
      "[nltk_data]   Package movie_reviews is already up-to-date!\n"
     ]
    },
    {
     "data": {
      "text/plain": [
       "True"
      ]
     },
     "execution_count": 90,
     "metadata": {},
     "output_type": "execute_result"
    }
   ],
   "source": [
    "from sklearn.feature_extraction.text import CountVectorizer\n",
    "from sklearn.pipeline import make_pipeline\n",
    "from sklearn.model_selection import cross_val_score\n",
    "from sklearn.linear_model import LogisticRegression\n",
    "import random\n",
    "\n",
    "\n",
    "# extracting data\n",
    "import nltk\n",
    "nltk.download('movie_reviews')"
   ]
  },
  {
   "cell_type": "code",
   "execution_count": 15,
   "metadata": {},
   "outputs": [
    {
     "name": "stdout",
     "output_type": "stream",
     "text": [
      "[['plot', ':', 'two', 'teen', 'couples', 'go', 'to', ...], ['the', 'happy', 'bastard', \"'\", 's', 'quick', 'movie', ...], ['it', 'is', 'movies', 'like', 'these', 'that', 'make', ...], ['\"', 'quest', 'for', 'camelot', '\"', 'is', 'warner', ...], ['synopsis', ':', 'a', 'mentally', 'unstable', 'man', ...]]\n",
      "[['films', 'adapted', 'from', 'comic', 'books', 'have', ...], ['every', 'now', 'and', 'then', 'a', 'movie', 'comes', ...], ['you', \"'\", 've', 'got', 'mail', 'works', 'alot', ...], ['\"', 'jaws', '\"', 'is', 'a', 'rare', 'film', 'that', ...], ['moviemaking', 'is', 'a', 'lot', 'like', 'being', ...]]\n"
     ]
    }
   ],
   "source": [
    "# getting IDs of positive and negative reviews\n",
    "negids = movie_reviews.fileids('neg')\n",
    "posids = movie_reviews.fileids('pos')\n",
    "\n",
    "# lists of reviews\n",
    "negfeats = [movie_reviews.words(fileids=[f]) for f in negids]\n",
    "posfeats = [movie_reviews.words(fileids=[f]) for f in posids]\n",
    "\n",
    "print(negfeats[:5])\n",
    "print(posfeats[:5])"
   ]
  },
  {
   "cell_type": "code",
   "execution_count": 31,
   "metadata": {},
   "outputs": [
    {
     "name": "stdout",
     "output_type": "stream",
     "text": [
      "2000\n"
     ]
    }
   ],
   "source": [
    "allfeats = [' '.join(x) for x in negfeats] + [' '.join(x) for x in posfeats]\n",
    "\n",
    "# number of reviews\n",
    "print(len(allfeats))"
   ]
  },
  {
   "cell_type": "code",
   "execution_count": 30,
   "metadata": {},
   "outputs": [
    {
     "name": "stdout",
     "output_type": "stream",
     "text": [
      "a pseudo - intellectual film about the pseudo - intellectual world of art magazines , high art is as wasted as its drug - addled protagonists . in the only notable part of the movie , ally sheedy and radha mitchell deliver nice performances in the two leading roles , not that lisa cholodenko ' s script or direction makes you care much about either character . living in a world of heroin induced highs , they float along until they fall in love with each other . this uninviting picture , full of pretentious minor characters , has a receptionist that reads dostoevski and a woman in the restroom line who is a certified genius , having recently been awarded a prestigious mcarthur grant . 24 - year - old syd ( radha mitchell ) , who has a rather bland , live - in boyfriend , was just promoted to assistant editor at the artistic photography magazine \" frame . \" although the receptionist is impressed , syd is mainly a gofer for her boss until she meets famous photographer lucy berliner ( ally sheedy ) . for her to do photos for \" frame , \" lucy demands that syd be promoted to editor and assigned to her since lucy fancies her . lucy lives with her current lover , a washed up german actress named greta , played with a frequently indecipherable series of mumbles by patricia clarkson . the two of them and their friends wile away their time snorting and shooting up dope , usually heroin . this does not happen in a single episode , but becomes more commonplace than sleeping in the picture . syd , who lives in the apartment below them , joins in on the fun and becomes a member of the zombie club . lucy seems pretty happy with her life of drugs , which apparently is funded by her mother . lucy quit working professionally 10 years ago since she thought she was being \" pigeonholed , \" and , since her mother has money , we can only assume that that ' s how lucy supports her habit and procures her living expenses . a typical scene has the editors arguing about whether a potential photographer ' s work is transcendental or merely classical . that no one has a clue as to the dogma they are spouting becomes obvious but not particularly funny . \" your work has a cultural currency that is important now , \" is the artist - speak that the frame ' s manager uses to convince lucy to show her pictures in the magazine . when the big scene comes in which lucy puts the moves on syd , her idea of a romantic line is , \" i want to get high with you . \" in lucy ' s world , sex and drugs come hand - in - hand . and the movie , except for the obligatory scene of someone almost overdosing , shows drug usage as being a hip and natural part of the art scene . this vacuous picture throws in a standard downer ending in an attempt to manipulate our emotions . in another movie , it might have worked , but in this one the reaction is likely to be decidedly muted . high art runs 1 : 36 . it is rated r for explicit sex , pervasive drug use and language and is not appropriate for those younger than college age .\n"
     ]
    }
   ],
   "source": [
    "# random review\n",
    "print(allfeats[42])"
   ]
  },
  {
   "cell_type": "code",
   "execution_count": 68,
   "metadata": {},
   "outputs": [
    {
     "name": "stdout",
     "output_type": "stream",
     "text": [
      "1000\n",
      "1000\n"
     ]
    }
   ],
   "source": [
    "# target vector\n",
    "labels = [0] * len(negfeats) + [1] * len(posfeats)\n",
    "\n",
    "print(labels.count(0)) # negative\n",
    "print(labels.count(1)) # positive"
   ]
  },
  {
   "cell_type": "code",
   "execution_count": 49,
   "metadata": {},
   "outputs": [
    {
     "name": "stdout",
     "output_type": "stream",
     "text": [
      "39659\n"
     ]
    }
   ],
   "source": [
    "vectorizer = CountVectorizer()\n",
    "data = vectorizer.fit_transform(allfeats) # training data\n",
    "\n",
    "# number of features in CountVectorizer\n",
    "print(data.shape[1])"
   ]
  },
  {
   "cell_type": "code",
   "execution_count": 63,
   "metadata": {},
   "outputs": [
    {
     "data": {
      "text/plain": [
       "0.8360054207130668"
      ]
     },
     "execution_count": 63,
     "metadata": {},
     "output_type": "execute_result"
    }
   ],
   "source": [
    "logreg = LogisticRegression(solver='liblinear')\n",
    "\n",
    "# using pipeline\n",
    "pipe = make_pipeline(vectorizer, logreg)\n",
    "\n",
    "# accuracy\n",
    "cross_val_score(pipe, allfeats, labels, scoring='accuracy', cv=3).mean()"
   ]
  },
  {
   "cell_type": "code",
   "execution_count": 64,
   "metadata": {},
   "outputs": [
    {
     "data": {
      "text/plain": [
       "0.9107670094794944"
      ]
     },
     "execution_count": 64,
     "metadata": {},
     "output_type": "execute_result"
    }
   ],
   "source": [
    "# ROC AUC\n",
    "cross_val_score(pipe, allfeats, labels, scoring='roc_auc', cv=3).mean()"
   ]
  },
  {
   "cell_type": "code",
   "execution_count": 66,
   "metadata": {},
   "outputs": [
    {
     "data": {
      "text/plain": [
       "LogisticRegression(C=1.0, class_weight=None, dual=False, fit_intercept=True,\n",
       "                   intercept_scaling=1, l1_ratio=None, max_iter=100,\n",
       "                   multi_class='auto', n_jobs=None, penalty='l2',\n",
       "                   random_state=None, solver='liblinear', tol=0.0001, verbose=0,\n",
       "                   warm_start=False)"
      ]
     },
     "execution_count": 66,
     "metadata": {},
     "output_type": "execute_result"
    }
   ],
   "source": [
    "# fitting logistic regression\n",
    "logreg.fit(data, labels)"
   ]
  },
  {
   "cell_type": "code",
   "execution_count": 148,
   "metadata": {},
   "outputs": [
    {
     "name": "stdout",
     "output_type": "stream",
     "text": [
      "pretense\n",
      "pure\n",
      "wringing\n",
      "jeweller\n",
      "rationality\n",
      "riddler\n",
      "dowdy\n",
      "greeting\n",
      "last\n",
      "humanity\n"
     ]
    }
   ],
   "source": [
    "feature_names = vectorizer.get_feature_names()\n",
    "\n",
    "# random features\n",
    "for i in range(10):\n",
    "    print(feature_names[random.randint(0,39658)])"
   ]
  },
  {
   "cell_type": "code",
   "execution_count": 155,
   "metadata": {},
   "outputs": [
    {
     "name": "stdout",
     "output_type": "stream",
     "text": [
      "[ 1.13520250e-02 -1.78937615e-02  2.51639163e-06 ... -7.15499215e-03\n",
      "  3.79017830e-04 -1.40853413e-03]\n"
     ]
    }
   ],
   "source": [
    "# coeffs of the features\n",
    "coeffs = logreg.coef_[0]\n",
    "print(coeffs)"
   ]
  },
  {
   "cell_type": "code",
   "execution_count": 162,
   "metadata": {},
   "outputs": [
    {
     "name": "stdout",
     "output_type": "stream",
     "text": [
      "bad\n",
      "unfortunately\n",
      "worst\n",
      "waste\n",
      "nothing\n"
     ]
    }
   ],
   "source": [
    "# finding 5 most valuable features\n",
    "for i in sorted(coeffs)[:5]:\n",
    "    print(feature_names[list(coeffs).index(i)])"
   ]
  },
  {
   "cell_type": "code",
   "execution_count": 163,
   "metadata": {},
   "outputs": [
    {
     "name": "stdout",
     "output_type": "stream",
     "text": [
      "[-0.7821764783709629, -0.6366186437795317, -0.5929016766182736, -0.5081785851276233, -0.5039889411126592]\n"
     ]
    }
   ],
   "source": [
    "print(sorted(coeffs)[:5])"
   ]
  },
  {
   "cell_type": "code",
   "execution_count": null,
   "metadata": {},
   "outputs": [],
   "source": []
  }
 ],
 "metadata": {
  "kernelspec": {
   "display_name": "Python 3",
   "language": "python",
   "name": "python3"
  },
  "language_info": {
   "codemirror_mode": {
    "name": "ipython",
    "version": 3
   },
   "file_extension": ".py",
   "mimetype": "text/x-python",
   "name": "python",
   "nbconvert_exporter": "python",
   "pygments_lexer": "ipython3",
   "version": "3.7.6"
  }
 },
 "nbformat": 4,
 "nbformat_minor": 4
}
