{
 "cells": [
  {
   "cell_type": "code",
   "execution_count": 408,
   "metadata": {},
   "outputs": [],
   "source": [
    "from sklearn.ensemble import RandomForestClassifier, BaggingClassifier, GradientBoostingClassifier\n",
    "from sklearn.feature_extraction.text import TfidfTransformer, CountVectorizer, TfidfVectorizer\n",
    "from sklearn.linear_model import LogisticRegression, SGDClassifier, RidgeClassifier\n",
    "from sklearn.model_selection import RandomizedSearchCV, cross_val_score\n",
    "from sklearn.naive_bayes import MultinomialNB, BernoulliNB, GaussianNB\n",
    "from sklearn.pipeline import make_pipeline, Pipeline\n",
    "from sklearn.tree import DecisionTreeClassifier\n",
    "from sklearn.base import TransformerMixin\n",
    "from matplotlib import pyplot as plt\n",
    "from sklearn.svm import LinearSVC\n",
    "from sklearn.utils import shuffle\n",
    "import pandas as pd\n",
    "import numpy as np\n",
    "import warnings\n",
    "\n",
    "warnings.filterwarnings('ignore')\n",
    "\n",
    "# reading the data\n",
    "\n",
    "train = pd.read_csv('products_sentiment_train.tsv', sep='\\t', header=None, names=['text', 'target'])\n",
    "test = pd.read_csv('products_sentiment_test.tsv', sep='\\t', index_col='Id')\n",
    "\n",
    "stop_words = nltk.corpus.stopwords.words('english')"
   ]
  },
  {
   "cell_type": "code",
   "execution_count": 351,
   "metadata": {},
   "outputs": [
    {
     "data": {
      "text/html": [
       "<div>\n",
       "<style scoped>\n",
       "    .dataframe tbody tr th:only-of-type {\n",
       "        vertical-align: middle;\n",
       "    }\n",
       "\n",
       "    .dataframe tbody tr th {\n",
       "        vertical-align: top;\n",
       "    }\n",
       "\n",
       "    .dataframe thead th {\n",
       "        text-align: right;\n",
       "    }\n",
       "</style>\n",
       "<table border=\"1\" class=\"dataframe\">\n",
       "  <thead>\n",
       "    <tr style=\"text-align: right;\">\n",
       "      <th></th>\n",
       "      <th>text</th>\n",
       "      <th>target</th>\n",
       "    </tr>\n",
       "  </thead>\n",
       "  <tbody>\n",
       "    <tr>\n",
       "      <th>0</th>\n",
       "      <td>2 . take around 10,000 640x480 pictures .</td>\n",
       "      <td>1</td>\n",
       "    </tr>\n",
       "    <tr>\n",
       "      <th>1</th>\n",
       "      <td>i downloaded a trial version of computer assoc...</td>\n",
       "      <td>1</td>\n",
       "    </tr>\n",
       "    <tr>\n",
       "      <th>2</th>\n",
       "      <td>the wrt54g plus the hga7t is a perfect solutio...</td>\n",
       "      <td>1</td>\n",
       "    </tr>\n",
       "    <tr>\n",
       "      <th>3</th>\n",
       "      <td>i dont especially like how music files are uns...</td>\n",
       "      <td>0</td>\n",
       "    </tr>\n",
       "    <tr>\n",
       "      <th>4</th>\n",
       "      <td>i was using the cheapie pail ... and it worked...</td>\n",
       "      <td>1</td>\n",
       "    </tr>\n",
       "  </tbody>\n",
       "</table>\n",
       "</div>"
      ],
      "text/plain": [
       "                                                text  target\n",
       "0          2 . take around 10,000 640x480 pictures .       1\n",
       "1  i downloaded a trial version of computer assoc...       1\n",
       "2  the wrt54g plus the hga7t is a perfect solutio...       1\n",
       "3  i dont especially like how music files are uns...       0\n",
       "4  i was using the cheapie pail ... and it worked...       1"
      ]
     },
     "execution_count": 351,
     "metadata": {},
     "output_type": "execute_result"
    }
   ],
   "source": [
    "train.head()"
   ]
  },
  {
   "cell_type": "code",
   "execution_count": 352,
   "metadata": {},
   "outputs": [
    {
     "data": {
      "text/html": [
       "<div>\n",
       "<style scoped>\n",
       "    .dataframe tbody tr th:only-of-type {\n",
       "        vertical-align: middle;\n",
       "    }\n",
       "\n",
       "    .dataframe tbody tr th {\n",
       "        vertical-align: top;\n",
       "    }\n",
       "\n",
       "    .dataframe thead th {\n",
       "        text-align: right;\n",
       "    }\n",
       "</style>\n",
       "<table border=\"1\" class=\"dataframe\">\n",
       "  <thead>\n",
       "    <tr style=\"text-align: right;\">\n",
       "      <th></th>\n",
       "      <th>target</th>\n",
       "    </tr>\n",
       "  </thead>\n",
       "  <tbody>\n",
       "    <tr>\n",
       "      <th>count</th>\n",
       "      <td>2000.000000</td>\n",
       "    </tr>\n",
       "    <tr>\n",
       "      <th>mean</th>\n",
       "      <td>0.637000</td>\n",
       "    </tr>\n",
       "    <tr>\n",
       "      <th>std</th>\n",
       "      <td>0.480985</td>\n",
       "    </tr>\n",
       "    <tr>\n",
       "      <th>min</th>\n",
       "      <td>0.000000</td>\n",
       "    </tr>\n",
       "    <tr>\n",
       "      <th>25%</th>\n",
       "      <td>0.000000</td>\n",
       "    </tr>\n",
       "    <tr>\n",
       "      <th>50%</th>\n",
       "      <td>1.000000</td>\n",
       "    </tr>\n",
       "    <tr>\n",
       "      <th>75%</th>\n",
       "      <td>1.000000</td>\n",
       "    </tr>\n",
       "    <tr>\n",
       "      <th>max</th>\n",
       "      <td>1.000000</td>\n",
       "    </tr>\n",
       "  </tbody>\n",
       "</table>\n",
       "</div>"
      ],
      "text/plain": [
       "            target\n",
       "count  2000.000000\n",
       "mean      0.637000\n",
       "std       0.480985\n",
       "min       0.000000\n",
       "25%       0.000000\n",
       "50%       1.000000\n",
       "75%       1.000000\n",
       "max       1.000000"
      ]
     },
     "execution_count": 352,
     "metadata": {},
     "output_type": "execute_result"
    }
   ],
   "source": [
    "train.describe()"
   ]
  },
  {
   "cell_type": "code",
   "execution_count": 353,
   "metadata": {},
   "outputs": [
    {
     "data": {
      "text/html": [
       "<div>\n",
       "<style scoped>\n",
       "    .dataframe tbody tr th:only-of-type {\n",
       "        vertical-align: middle;\n",
       "    }\n",
       "\n",
       "    .dataframe tbody tr th {\n",
       "        vertical-align: top;\n",
       "    }\n",
       "\n",
       "    .dataframe thead th {\n",
       "        text-align: right;\n",
       "    }\n",
       "</style>\n",
       "<table border=\"1\" class=\"dataframe\">\n",
       "  <thead>\n",
       "    <tr style=\"text-align: right;\">\n",
       "      <th></th>\n",
       "      <th>text</th>\n",
       "    </tr>\n",
       "    <tr>\n",
       "      <th>Id</th>\n",
       "      <th></th>\n",
       "    </tr>\n",
       "  </thead>\n",
       "  <tbody>\n",
       "    <tr>\n",
       "      <th>0</th>\n",
       "      <td>so , why the small digital elph , rather than ...</td>\n",
       "    </tr>\n",
       "    <tr>\n",
       "      <th>1</th>\n",
       "      <td>3/4 way through the first disk we played on it...</td>\n",
       "    </tr>\n",
       "    <tr>\n",
       "      <th>2</th>\n",
       "      <td>better for the zen micro is outlook compatibil...</td>\n",
       "    </tr>\n",
       "    <tr>\n",
       "      <th>3</th>\n",
       "      <td>6 . play gameboy color games on it with goboy .</td>\n",
       "    </tr>\n",
       "    <tr>\n",
       "      <th>4</th>\n",
       "      <td>likewise , i 've heard norton 2004 professiona...</td>\n",
       "    </tr>\n",
       "  </tbody>\n",
       "</table>\n",
       "</div>"
      ],
      "text/plain": [
       "                                                 text\n",
       "Id                                                   \n",
       "0   so , why the small digital elph , rather than ...\n",
       "1   3/4 way through the first disk we played on it...\n",
       "2   better for the zen micro is outlook compatibil...\n",
       "3     6 . play gameboy color games on it with goboy .\n",
       "4   likewise , i 've heard norton 2004 professiona..."
      ]
     },
     "execution_count": 353,
     "metadata": {},
     "output_type": "execute_result"
    }
   ],
   "source": [
    "test.head()"
   ]
  },
  {
   "cell_type": "code",
   "execution_count": 354,
   "metadata": {},
   "outputs": [
    {
     "data": {
      "text/html": [
       "<div>\n",
       "<style scoped>\n",
       "    .dataframe tbody tr th:only-of-type {\n",
       "        vertical-align: middle;\n",
       "    }\n",
       "\n",
       "    .dataframe tbody tr th {\n",
       "        vertical-align: top;\n",
       "    }\n",
       "\n",
       "    .dataframe thead th {\n",
       "        text-align: right;\n",
       "    }\n",
       "</style>\n",
       "<table border=\"1\" class=\"dataframe\">\n",
       "  <thead>\n",
       "    <tr style=\"text-align: right;\">\n",
       "      <th></th>\n",
       "      <th>text</th>\n",
       "    </tr>\n",
       "  </thead>\n",
       "  <tbody>\n",
       "    <tr>\n",
       "      <th>count</th>\n",
       "      <td>500</td>\n",
       "    </tr>\n",
       "    <tr>\n",
       "      <th>unique</th>\n",
       "      <td>500</td>\n",
       "    </tr>\n",
       "    <tr>\n",
       "      <th>top</th>\n",
       "      <td>though nearly a dozen different people at both...</td>\n",
       "    </tr>\n",
       "    <tr>\n",
       "      <th>freq</th>\n",
       "      <td>1</td>\n",
       "    </tr>\n",
       "  </tbody>\n",
       "</table>\n",
       "</div>"
      ],
      "text/plain": [
       "                                                     text\n",
       "count                                                 500\n",
       "unique                                                500\n",
       "top     though nearly a dozen different people at both...\n",
       "freq                                                    1"
      ]
     },
     "execution_count": 354,
     "metadata": {},
     "output_type": "execute_result"
    }
   ],
   "source": [
    "test.describe()"
   ]
  },
  {
   "cell_type": "code",
   "execution_count": 355,
   "metadata": {},
   "outputs": [
    {
     "data": {
      "image/png": "[encoded data removed]",
      "text/plain": [
       "<Figure size 504x504 with 1 Axes>"
      ]
     },
     "metadata": {},
     "output_type": "display_data"
    }
   ],
   "source": [
    "figure = plt.figure(figsize=(7, 7))\n",
    "train['target'].value_counts().plot(kind='pie', colors = ['red', 'darkred'])\n",
    "\n",
    "plt.title('The ratio of positive and negative reviews')\n",
    "plt.show()"
   ]
  },
  {
   "cell_type": "code",
   "execution_count": 356,
   "metadata": {},
   "outputs": [
    {
     "name": "stdout",
     "output_type": "stream",
     "text": [
      "Positive: 1274\n",
      "Negative: 726\n"
     ]
    }
   ],
   "source": [
    "print('Positive:', (train['target'] == 1).sum())\n",
    "print('Negative:', (train['target'] == 0).sum())"
   ]
  },
  {
   "cell_type": "code",
   "execution_count": 407,
   "metadata": {},
   "outputs": [
    {
     "name": "stdout",
     "output_type": "stream",
     "text": [
      "Positive: 1274\n",
      "Negative: 1226\n"
     ]
    }
   ],
   "source": [
    "# balancing classes\n",
    "train_balanced = shuffle(train.append(train.iloc[list(train[train['target'] == 0].index[:500])]), random_state=10)\n",
    "\n",
    "print('Positive:', (train_balanced['target'] == 1).sum())\n",
    "print('Negative:', (train_balanced['target'] == 0).sum())"
   ]
  },
  {
   "cell_type": "code",
   "execution_count": 358,
   "metadata": {},
   "outputs": [
    {
     "data": {
      "image/png": "[encoded data removed]",
      "text/plain": [
       "<Figure size 504x504 with 1 Axes>"
      ]
     },
     "metadata": {},
     "output_type": "display_data"
    }
   ],
   "source": [
    "figure = plt.figure(figsize=(7, 7))\n",
    "train_balanced['target'].value_counts().plot(kind='pie', colors = ['cyan', 'blue'])\n",
    "\n",
    "plt.title('The ratio of positive and negative reviews')\n",
    "plt.show()"
   ]
  },
  {
   "cell_type": "code",
   "execution_count": 359,
   "metadata": {},
   "outputs": [
    {
     "data": {
      "text/html": [
       "<div>\n",
       "<style scoped>\n",
       "    .dataframe tbody tr th:only-of-type {\n",
       "        vertical-align: middle;\n",
       "    }\n",
       "\n",
       "    .dataframe tbody tr th {\n",
       "        vertical-align: top;\n",
       "    }\n",
       "\n",
       "    .dataframe thead th {\n",
       "        text-align: right;\n",
       "    }\n",
       "</style>\n",
       "<table border=\"1\" class=\"dataframe\">\n",
       "  <thead>\n",
       "    <tr style=\"text-align: right;\">\n",
       "      <th></th>\n",
       "      <th>text</th>\n",
       "      <th>target</th>\n",
       "    </tr>\n",
       "  </thead>\n",
       "  <tbody>\n",
       "    <tr>\n",
       "      <th>648</th>\n",
       "      <td>also , very light and portable .</td>\n",
       "      <td>1</td>\n",
       "    </tr>\n",
       "    <tr>\n",
       "      <th>331</th>\n",
       "      <td>knocked 1 star off for the install wizard - it...</td>\n",
       "      <td>0</td>\n",
       "    </tr>\n",
       "    <tr>\n",
       "      <th>1158</th>\n",
       "      <td>the focus is great , though , if you are not t...</td>\n",
       "      <td>1</td>\n",
       "    </tr>\n",
       "    <tr>\n",
       "      <th>831</th>\n",
       "      <td>it would not hang up on calls .</td>\n",
       "      <td>0</td>\n",
       "    </tr>\n",
       "    <tr>\n",
       "      <th>1967</th>\n",
       "      <td>the hands-free speakerphone is quite powerful ...</td>\n",
       "      <td>1</td>\n",
       "    </tr>\n",
       "  </tbody>\n",
       "</table>\n",
       "</div>"
      ],
      "text/plain": [
       "                                                   text  target\n",
       "648                   also , very light and portable .        1\n",
       "331   knocked 1 star off for the install wizard - it...       0\n",
       "1158  the focus is great , though , if you are not t...       1\n",
       "831                     it would not hang up on calls .       0\n",
       "1967  the hands-free speakerphone is quite powerful ...       1"
      ]
     },
     "execution_count": 359,
     "metadata": {},
     "output_type": "execute_result"
    }
   ],
   "source": [
    "train_balanced.head()"
   ]
  },
  {
   "cell_type": "code",
   "execution_count": 360,
   "metadata": {},
   "outputs": [
    {
     "data": {
      "text/plain": [
       "(2500, 2)"
      ]
     },
     "execution_count": 360,
     "metadata": {},
     "output_type": "execute_result"
    }
   ],
   "source": [
    "train_balanced.shape"
   ]
  },
  {
   "cell_type": "code",
   "execution_count": 406,
   "metadata": {},
   "outputs": [
    {
     "data": {
      "text/plain": [
       "(2500, 3973)"
      ]
     },
     "execution_count": 406,
     "metadata": {},
     "output_type": "execute_result"
    }
   ],
   "source": [
    "# tokenization\n",
    "\n",
    "cvect = CountVectorizer()\n",
    "token_matrix = cvect.fit_transform(train_balanced['text'])\n",
    "\n",
    "token_matrix.shape"
   ]
  },
  {
   "cell_type": "code",
   "execution_count": 362,
   "metadata": {},
   "outputs": [
    {
     "data": {
      "text/plain": [
       "(2500, 3973)"
      ]
     },
     "execution_count": 362,
     "metadata": {},
     "output_type": "execute_result"
    }
   ],
   "source": [
    "tfidf = TfidfTransformer()\n",
    "frequency_counts = tfidf.fit_transform(token_matrix)\n",
    "\n",
    "frequency_counts.shape"
   ]
  },
  {
   "cell_type": "code",
   "execution_count": 363,
   "metadata": {},
   "outputs": [
    {
     "name": "stdout",
     "output_type": "stream",
     "text": [
      "[0 0 0 1 1 1 0 1 1 0]\n",
      "\n",
      "['the zen xtra will transfer the files to the player , but not the folder name . '\n",
      " 'even with newborn diapers it filled way too fast .'\n",
      " 'one little minor flaw with this camera is that the lens is visible in the viewfinder , but does not detract from the image at all . '\n",
      " 'anywhere i went in south africa this phone received full bar reception . '\n",
      " 'the songs recorded with fm are as good as the original signal .'\n",
      " \"i did n't think i would find this quality and ease of use for under $ 1500 - i 'm thrilled with my purchase ! \"\n",
      " 'this product has virtually all the same installation problems .'\n",
      " 'this program enables the user to batch convert and convert audio files from one format to another .'\n",
      " \"- equipment included is average , but that is n't a big deal since thats not what you are buying it for . \"\n",
      " 'typically , the problem is the headphone jack -- it was for me and many others . ']\n"
     ]
    }
   ],
   "source": [
    "X = train_balanced['text'].values\n",
    "y = train_balanced['target'].values\n",
    "\n",
    "X_test = test['text'].values\n",
    "\n",
    "print(y[20:30])\n",
    "print('')\n",
    "print(X[20:30])"
   ]
  },
  {
   "cell_type": "code",
   "execution_count": 364,
   "metadata": {},
   "outputs": [],
   "source": [
    "rs = 42 # random_state\n",
    "cv = 5\n",
    "\n",
    "\n",
    "def estimator(classifier, parameters_grid, scorer, data, labels):\n",
    "    pipeline = text_classifier(CountVectorizer(), TfidfTransformer(), classifier)\n",
    "    \n",
    "    grid_cv = RandomizedSearchCV(pipeline, parameters_grid, scoring = scorer, cv=cv, random_state=rs, n_iter=100)\n",
    "    grid_cv.fit(data, labels)\n",
    "    \n",
    "    return grid_cv\n",
    "\n",
    "\n",
    "def classifier(vectorizer, transformer, classifier):\n",
    "    return Pipeline(\n",
    "            [('vectorizer', vectorizer),\n",
    "            ('transformer', transformer),\n",
    "            ('classifier', classifier)]\n",
    "        )\n",
    "\n",
    "\n",
    "grid_vectorizer = {\n",
    "    'vectorizer__max_df' : [0.85, 0.9, 0.95, 1.0],\n",
    "    'vectorizer__min_df' : [1, 10, 20], \n",
    "    'vectorizer__ngram_range' : [(1, 1), (1, 2), (1, 3), (1, 4), (1, 5), (1, 6)],\n",
    "    'vectorizer__stop_words' : [stop_words, None, 'english']\n",
    "}"
   ]
  },
  {
   "cell_type": "markdown",
   "metadata": {},
   "source": [
    "## Finding the best model"
   ]
  },
  {
   "cell_type": "markdown",
   "metadata": {},
   "source": [
    "#### Linear classifiers"
   ]
  },
  {
   "cell_type": "code",
   "execution_count": 365,
   "metadata": {},
   "outputs": [
    {
     "name": "stdout",
     "output_type": "stream",
     "text": [
      "LogisticRegression: 0.808\n",
      "LinearSVC: 0.843\n",
      "SGDClassifier: 0.832\n",
      "RidgeClassifier: 0.843\n"
     ]
    }
   ],
   "source": [
    "for name, clf in {'LogisticRegression': LogisticRegression,\n",
    "               'LinearSVC': LinearSVC, \n",
    "               'SGDClassifier': SGDClassifier,\n",
    "               'RidgeClassifier': RidgeClassifier}.items():\n",
    "\n",
    "    print(name, ': ', round(cross_val_score(classifier(CountVectorizer(), \n",
    "                                                   TfidfTransformer(), \n",
    "                                                   clf(random_state=rs)), \n",
    "                                   \n",
    "                                   X, y, scoring='accuracy').mean(), 3), sep='')"
   ]
  },
  {
   "cell_type": "code",
   "execution_count": 366,
   "metadata": {},
   "outputs": [],
   "source": [
    "# parameter grids\n",
    "\n",
    "grid_lr = {\n",
    "    'classifier__C': [0.8, 1, 1.2, 1.4],\n",
    "    'classifier__max_iter': [50, 70, 90, 110],\n",
    "    'classifier__solver': ['lbfgs', 'liblinear', 'sag']\n",
    "}\n",
    "\n",
    "grid_lsvc = {\n",
    "    'classifier__loss': ['hinge', 'squared_hinge'], \n",
    "    'classifier__max_iter': [300, 500, 700, 900, 1100],\n",
    "    'classifier__tol': [1e-5, 1e-4, 1e-3],\n",
    "    'classifier__C': [1.0, 1.1, 1.2, 1.5]\n",
    "}\n",
    "\n",
    "grid_sgdc = {\n",
    "    'classifier__loss': ['log', 'hinge', 'modified_huber'], \n",
    "    'classifier__penalty':  ['l1', 'l2', 'elasticnet'], \n",
    "    'classifier__max_iter': np.arange(100, 1000, 50),\n",
    "    'classifier__tol': np.arange(1e-5, 1e-3, 1e-5)\n",
    "}\n",
    "\n",
    "grid_rc = {\n",
    "    'classifier__alpha': [0.5, 0.7, 1, 1.5, 3, 5],\n",
    "    'classifier__normalize': [True, False], \n",
    "    'classifier__tol': [0.0001, 0.0005, 0.001, 0.0015, 0.002],\n",
    "    'classifier__solver': ['auto', 'svd', 'cholesky', 'lsqr', 'sparse_cg', 'sag']\n",
    "}"
   ]
  },
  {
   "cell_type": "markdown",
   "metadata": {},
   "source": [
    "#### Decision tree classifiers"
   ]
  },
  {
   "cell_type": "code",
   "execution_count": 405,
   "metadata": {},
   "outputs": [
    {
     "name": "stdout",
     "output_type": "stream",
     "text": [
      "DecisionTreeClassifier: 0.777\n",
      "RandomForestClassifier: 0.849\n",
      "BaggingClassifier: 0.792\n",
      "GradientBoostingClassifier: 0.755\n"
     ]
    }
   ],
   "source": [
    "for name, clf in {'DecisionTreeClassifier': DecisionTreeClassifier,\n",
    "               'RandomForestClassifier': RandomForestClassifier,\n",
    "               'BaggingClassifier': BaggingClassifier,\n",
    "               'GradientBoostingClassifier': GradientBoostingClassifier}.items():\n",
    "\n",
    "    print(name, ': ', round(cross_val_score(classifier(CountVectorizer(), \n",
    "                                                   TfidfTransformer(), \n",
    "                                                   clf(random_state=rs)), \n",
    "                                   \n",
    "                                   X, y, scoring='accuracy').mean(), 3), sep='')"
   ]
  },
  {
   "cell_type": "code",
   "execution_count": 368,
   "metadata": {},
   "outputs": [],
   "source": [
    "# parameter grids\n",
    "\n",
    "grid_dtc = {\n",
    "    'classifier__max_depth': np.arange(1, 30, 5),\n",
    "    'classifier__min_samples_split': np.arange(2, 5, 1),\n",
    "    'classifier__min_samples_leaf': [1, 2, 3],\n",
    "    'classifier__min_impurity_decrease': np.logspace(-10, -6, 5)\n",
    "}\n",
    "\n",
    "grid_rfc = {\n",
    "    'classifier__n_estimators': np.arange(1, 30, 5),\n",
    "    'classifier__max_depth': [None] + list(np.arange(1, 30, 5)),\n",
    "    'classifier__min_samples_split': np.arange(2, 6, 1),\n",
    "    'classifier__min_samples_leaf': [1, 2, 3],\n",
    "    'classifier__max_features': ['auto', 'sqrt', 'log2'],\n",
    "    'classifier__min_impurity_decrease': np.logspace(-10, -6, 5)\n",
    "}\n",
    "\n",
    "grid_bc = {\n",
    "    'classifier__n_estimators': np.arange(10, 1000, 10),\n",
    "    'classifier__warm_start': [False, True], \n",
    "    'classifier__bootstrap_features': [False, True]\n",
    "}\n",
    "\n",
    "grid_gbc = {\n",
    "    'classifier__n_estimators': np.arange(10, 1000, 20),\n",
    "    'classifier__max_depth': [None] + list(np.arange(1, 30, 1)),\n",
    "    'classifier__min_samples_split': np.arange(2, 6, 1),\n",
    "    'classifier__max_features': ['auto', 'sqrt', 'log2'],\n",
    "    'classifier__subsample': np.arange(0.5, 1, 0.1)\n",
    "}"
   ]
  },
  {
   "cell_type": "markdown",
   "metadata": {},
   "source": [
    "#### Naive Bayes classifiers"
   ]
  },
  {
   "cell_type": "code",
   "execution_count": 369,
   "metadata": {},
   "outputs": [
    {
     "name": "stdout",
     "output_type": "stream",
     "text": [
      "MultinomialNB: 0.828\n",
      "BernoulliNB: 0.821\n",
      "GaussianNB: 0.705\n"
     ]
    }
   ],
   "source": [
    "for name, clf in {'MultinomialNB': MultinomialNB,\n",
    "                  'BernoulliNB': BernoulliNB,\n",
    "                  'GaussianNB': GaussianNB}.items():\n",
    "    \n",
    "    if name == 'GaussianNB':\n",
    "        print(name, ': ', round(cross_val_score(Pipeline([('vectorizer', CountVectorizer()), \n",
    "                                                          ('transformer', TfidfTransformer()),\n",
    "                                  ('dense', DenseTransformer()), ('classifier', GaussianNB())]), \n",
    "                                             X, y, scoring='accuracy').mean(), 3), sep='')\n",
    "    else:\n",
    "        print(name, ': ', round(cross_val_score(classifier(CountVectorizer(), \n",
    "                                                             TfidfTransformer(), \n",
    "                                                             clf()), \n",
    "                                             X, y, scoring='accuracy').mean(), 3), sep='')"
   ]
  },
  {
   "cell_type": "code",
   "execution_count": 370,
   "metadata": {},
   "outputs": [],
   "source": [
    "# parameter grids\n",
    "\n",
    "grid_mnb = {\n",
    "    'classifier__alpha': np.logspace(0, 5, 100), \n",
    "    'classifier__fit_prior': [True, False]\n",
    "}\n",
    "\n",
    "grid_bnb = {\n",
    "    'classifier__alpha': np.logspace(0, 5, 100),\n",
    "    'classifier__fit_prior': [True, False]\n",
    "}"
   ]
  },
  {
   "cell_type": "markdown",
   "metadata": {},
   "source": [
    "### Grid search"
   ]
  },
  {
   "cell_type": "code",
   "execution_count": 381,
   "metadata": {},
   "outputs": [
    {
     "name": "stdout",
     "output_type": "stream",
     "text": [
      "\n",
      "LogisticRegression\n",
      "Best score: 0.8164\n",
      "\n",
      "Parameters: {'classifier__solver': 'lbfgs', 'classifier__max_iter': 50, 'classifier__C': 1.4}\n",
      "CPU times: user 21.1 s, sys: 76 ms, total: 21.2 s\n",
      "Wall time: 21.2 s\n"
     ]
    }
   ],
   "source": [
    "%%time\n",
    "grid_search_lr = estimator(LogisticRegression(random_state=rs), grid_lr, 'accuracy', X, y)\n",
    "\n",
    "print('')\n",
    "print('LogisticRegression')\n",
    "print('Best score:', round(grid_search_lr.best_score_, 4))\n",
    "print('')\n",
    "print('Parameters:', grid_search_lr.best_params_)"
   ]
  },
  {
   "cell_type": "code",
   "execution_count": 382,
   "metadata": {},
   "outputs": [
    {
     "name": "stdout",
     "output_type": "stream",
     "text": [
      "\n",
      "LinearSVC\n",
      "Best score: 0.8432\n",
      "\n",
      "Parameters: {'classifier__tol': 0.001, 'classifier__max_iter': 900, 'classifier__loss': 'squared_hinge', 'classifier__C': 1.0}\n",
      "CPU times: user 40.3 s, sys: 59.9 ms, total: 40.4 s\n",
      "Wall time: 40.4 s\n"
     ]
    }
   ],
   "source": [
    "%%time\n",
    "grid_search_lsvc = estimator(LinearSVC(random_state=rs), grid_lsvc, 'accuracy', X, y)\n",
    "\n",
    "print('')\n",
    "print('LinearSVC')\n",
    "print('Best score:', round(grid_search_lsvc.best_score_, 4))\n",
    "print('')\n",
    "print('Parameters:', grid_search_lsvc.best_params_)"
   ]
  },
  {
   "cell_type": "code",
   "execution_count": 383,
   "metadata": {},
   "outputs": [
    {
     "name": "stdout",
     "output_type": "stream",
     "text": [
      "\n",
      "SGDClassifier\n",
      "Best score: 0.8416\n",
      "\n",
      "Parameters: {'classifier__tol': 0.00019, 'classifier__penalty': 'l2', 'classifier__max_iter': 400, 'classifier__loss': 'log'}\n",
      "CPU times: user 40.9 s, sys: 48 ms, total: 41 s\n",
      "Wall time: 41 s\n"
     ]
    }
   ],
   "source": [
    "%%time\n",
    "grid_search_sgdc = estimator(SGDClassifier(random_state=rs), grid_sgdc, 'accuracy', X, y)\n",
    "\n",
    "print('')\n",
    "print('SGDClassifier')\n",
    "print('Best score:', round(grid_search_sgdc.best_score_, 4))\n",
    "print('')\n",
    "print('Parameters:', grid_search_sgdc.best_params_)"
   ]
  },
  {
   "cell_type": "code",
   "execution_count": 384,
   "metadata": {},
   "outputs": [
    {
     "name": "stdout",
     "output_type": "stream",
     "text": [
      "\n",
      "RidgeClassifier\n",
      "Best score: 0.8428\n",
      "\n",
      "Parameters: {'classifier__tol': 0.001, 'classifier__solver': 'auto', 'classifier__normalize': False, 'classifier__alpha': 1}\n",
      "CPU times: user 32.5 s, sys: 19.9 ms, total: 32.5 s\n",
      "Wall time: 32.5 s\n"
     ]
    }
   ],
   "source": [
    "%%time\n",
    "grid_search_rc = estimator(RidgeClassifier(random_state=rs), grid_rc, 'accuracy', X, y)\n",
    "\n",
    "print('')\n",
    "print('RidgeClassifier')\n",
    "print('Best score:', round(grid_search_rc.best_score_, 4))\n",
    "print('')\n",
    "print('Parameters:', grid_search_rc.best_params_)"
   ]
  },
  {
   "cell_type": "code",
   "execution_count": 385,
   "metadata": {},
   "outputs": [
    {
     "name": "stdout",
     "output_type": "stream",
     "text": [
      "\n",
      "DecisionTreeClassifier\n",
      "Best score: 0.73\n",
      "\n",
      "Parameters: {'classifier__min_samples_split': 3, 'classifier__min_samples_leaf': 1, 'classifier__min_impurity_decrease': 1e-10, 'classifier__max_depth': 26}\n",
      "CPU times: user 1min, sys: 47.9 ms, total: 1min\n",
      "Wall time: 1min\n"
     ]
    }
   ],
   "source": [
    "%%time\n",
    "grid_search_dtc = estimator(DecisionTreeClassifier(random_state=rs), grid_dtc, 'accuracy', X, y)\n",
    "\n",
    "print('')\n",
    "print('DecisionTreeClassifier')\n",
    "print('Best score:', round(grid_search_dtc.best_score_, 4))\n",
    "print('')\n",
    "print('Parameters:', grid_search_dtc.best_params_)"
   ]
  },
  {
   "cell_type": "code",
   "execution_count": 386,
   "metadata": {},
   "outputs": [
    {
     "name": "stdout",
     "output_type": "stream",
     "text": [
      "\n",
      "RandomForestClassifier\n",
      "Best score: 0.8524\n",
      "\n",
      "Parameters: {'classifier__n_estimators': 26, 'classifier__min_samples_split': 4, 'classifier__min_samples_leaf': 1, 'classifier__min_impurity_decrease': 1e-06, 'classifier__max_features': 'log2', 'classifier__max_depth': None}\n",
      "CPU times: user 53.1 s, sys: 79.9 ms, total: 53.2 s\n",
      "Wall time: 53.6 s\n"
     ]
    }
   ],
   "source": [
    "%%time\n",
    "grid_search_rfc = estimator(RandomForestClassifier(random_state=rs), grid_rfc, 'accuracy', X, y)\n",
    "\n",
    "print('')\n",
    "print('RandomForestClassifier')\n",
    "print('Best score:', round(grid_search_rfc.best_score_, 4))\n",
    "print('')\n",
    "print('Parameters:', grid_search_rfc.best_params_)"
   ]
  },
  {
   "cell_type": "code",
   "execution_count": 392,
   "metadata": {},
   "outputs": [
    {
     "name": "stdout",
     "output_type": "stream",
     "text": [
      "\n",
      "BaggingClassifier\n",
      "\n",
      "CPU times: user 400 µs, sys: 1 µs, total: 401 µs\n",
      "Wall time: 315 µs\n"
     ]
    }
   ],
   "source": [
    "%%time\n",
    "grid_search_bc = estimator(BaggingClassifier(random_state=rs), grid_bc, 'accuracy', X, y)\n",
    "\n",
    "print('')\n",
    "print('BaggingClassifier')\n",
    "print('Best score:', round(grid_search_bc.best_score_, 4))\n",
    "print('')\n",
    "print('Parameters:', grid_search_bc.best_params_)"
   ]
  },
  {
   "cell_type": "code",
   "execution_count": 341,
   "metadata": {},
   "outputs": [
    {
     "name": "stdout",
     "output_type": "stream",
     "text": [
      "\n",
      "GradientBoostingClassifier\n",
      "\n",
      "CPU times: user 778 µs, sys: 2 µs, total: 780 µs\n",
      "Wall time: 657 µs\n"
     ]
    }
   ],
   "source": [
    "%%time\n",
    "grid_search_gbc = estimator(GradientBoostingClassifier(random_state=rs), grid_gbc, 'accuracy', X, y)\n",
    "\n",
    "print('')\n",
    "print('GradientBoostingClassifier')\n",
    "print('Best score:', round(grid_search_gbc.best_score_, 4))\n",
    "print('')\n",
    "print('Parameters:', grid_search_gbc.best_params_)"
   ]
  },
  {
   "cell_type": "code",
   "execution_count": 388,
   "metadata": {},
   "outputs": [
    {
     "name": "stdout",
     "output_type": "stream",
     "text": [
      "\n",
      "MultinomialNB\n",
      "Best score: 0.8256\n",
      "\n",
      "Parameters: {'classifier__fit_prior': True, 'classifier__alpha': 1.1233240329780274}\n",
      "CPU times: user 37.1 s, sys: 95.9 ms, total: 37.2 s\n",
      "Wall time: 37.5 s\n"
     ]
    }
   ],
   "source": [
    "%%time\n",
    "grid_search_mnb = estimator(MultinomialNB(), grid_mnb, 'accuracy', X, y)\n",
    "\n",
    "print('')\n",
    "print('MultinomialNB')\n",
    "print('Best score:', round(grid_search_mnb.best_score_, 4))\n",
    "print('')\n",
    "print('Parameters:', grid_search_mnb.best_params_)"
   ]
  },
  {
   "cell_type": "code",
   "execution_count": 389,
   "metadata": {},
   "outputs": [
    {
     "name": "stdout",
     "output_type": "stream",
     "text": [
      "\n",
      "BernoulliNB\n",
      "Best score: 0.818\n",
      "\n",
      "Parameters: {'classifier__fit_prior': True, 'classifier__alpha': 1.1233240329780274}\n",
      "CPU times: user 34.3 s, sys: 48 ms, total: 34.3 s\n",
      "Wall time: 34.6 s\n"
     ]
    }
   ],
   "source": [
    "%%time\n",
    "grid_search_bnb = estimator(BernoulliNB(), grid_bnb, 'accuracy', X, y)\n",
    "\n",
    "print('')\n",
    "print('BernoulliNB')\n",
    "print('Best score:', round(grid_search_bnb.best_score_, 4))\n",
    "print('')\n",
    "print('Parameters:', grid_search_bnb.best_params_)"
   ]
  },
  {
   "cell_type": "markdown",
   "metadata": {},
   "source": [
    "⠀  \n",
    "\n",
    "  \n",
    "Best linear model - **LinearSVC**    \n",
    "Best Bayesian model - **MultinomialNB**    \n",
    "Best decision tree model - **GradientBoostingClassifier**    "
   ]
  },
  {
   "cell_type": "code",
   "execution_count": null,
   "metadata": {},
   "outputs": [],
   "source": [
    "''' {'classifier__tol': 0.001, \n",
    "     'classifier__max_iter': 900, \n",
    "     'classifier__loss': 'squared_hinge', \n",
    "     'classifier__C': 1.0} \n",
    "\n",
    "     {'classifier__fit_prior': True, \n",
    "      'classifier__alpha': 1.1233240329780274}\n",
    "      \n",
    "     {'vectorizer__stop_words': None, \n",
    "      'vectorizer__ngram_range': (1, 1), \n",
    "      'vectorizer__min_df': 1,\n",
    "      'vectorizer__max_df': 0.85, \n",
    "      'classifier__subsample': 0.8999999999999999, \n",
    "      'classifier__n_estimators': 510, \n",
    "      'classifier__min_samples_split': 4, \n",
    "      'classifier__max_features': 'sqrt', \n",
    "      'classifier__max_depth': 14}\n",
    "'''"
   ]
  },
  {
   "cell_type": "markdown",
   "metadata": {},
   "source": [
    "## Predictions"
   ]
  },
  {
   "cell_type": "code",
   "execution_count": 393,
   "metadata": {},
   "outputs": [
    {
     "data": {
      "text/plain": [
       "Pipeline(memory=None,\n",
       "         steps=[('countvectorizer',\n",
       "                 CountVectorizer(analyzer='word', binary=False,\n",
       "                                 decode_error='strict',\n",
       "                                 dtype=<class 'numpy.int64'>, encoding='utf-8',\n",
       "                                 input='content', lowercase=True, max_df=0.9,\n",
       "                                 max_features=None, min_df=1,\n",
       "                                 ngram_range=(1, 5), preprocessor=None,\n",
       "                                 stop_words=None, strip_accents=None,\n",
       "                                 token_pattern='(?u)\\\\b\\\\w\\\\w+\\\\b',\n",
       "                                 tokenizer=None, vocabulary=None)),\n",
       "                ('tfidftransformer',\n",
       "                 TfidfTransformer(norm='l2', smooth_idf=True,\n",
       "                                  sublinear_tf=False, use_idf=True)),\n",
       "                ('linearsvc',\n",
       "                 LinearSVC(C=1.0, class_weight=None, dual=True,\n",
       "                           fit_intercept=True, intercept_scaling=1,\n",
       "                           loss='squared_hinge', max_iter=400,\n",
       "                           multi_class='ovr', penalty='l2', random_state=42,\n",
       "                           tol=0.001, verbose=0))],\n",
       "         verbose=False)"
      ]
     },
     "execution_count": 393,
     "metadata": {},
     "output_type": "execute_result"
    }
   ],
   "source": [
    "# Linear SVC\n",
    "lsvc = make_pipeline(CountVectorizer(min_df=1, ngram_range=(1, 5), max_df=0.9, stop_words=None),\n",
    "                    TfidfTransformer(),\n",
    "                    LinearSVC(max_iter=400, \n",
    "                              loss='squared_hinge', \n",
    "                              C=1.0, \n",
    "                              tol=0.001, \n",
    "                              random_state=rs))\n",
    "lsvc.fit(X, y)"
   ]
  },
  {
   "cell_type": "code",
   "execution_count": 397,
   "metadata": {},
   "outputs": [
    {
     "data": {
      "text/plain": [
       "Pipeline(memory=None,\n",
       "         steps=[('countvectorizer',\n",
       "                 CountVectorizer(analyzer='word', binary=False,\n",
       "                                 decode_error='strict',\n",
       "                                 dtype=<class 'numpy.int64'>, encoding='utf-8',\n",
       "                                 input='content', lowercase=True, max_df=1,\n",
       "                                 max_features=None, min_df=1,\n",
       "                                 ngram_range=(1, 5), preprocessor=None,\n",
       "                                 stop_words=None, strip_accents=None,\n",
       "                                 token_pattern='(?u)\\\\b\\\\w\\\\w+\\\\b',\n",
       "                                 tokenizer=None, vocabulary=None)),\n",
       "                ('tfidftransformer',\n",
       "                 TfidfTransformer(norm='l2', smooth_idf=True,\n",
       "                                  sublinear_tf=False, use_idf=True)),\n",
       "                ('multinomialnb',\n",
       "                 MultinomialNB(alpha=1.1233240329780274, class_prior=None,\n",
       "                               fit_prior=True))],\n",
       "         verbose=False)"
      ]
     },
     "execution_count": 397,
     "metadata": {},
     "output_type": "execute_result"
    }
   ],
   "source": [
    "# MultinomialNB\n",
    "mnb = make_pipeline(CountVectorizer(min_df=1, ngram_range=(1, 5), max_df=1, stop_words=None),\n",
    "                    TfidfTransformer(),\n",
    "                    MultinomialNB(alpha=1.1233240329780274, \n",
    "                    fit_prior=True))\n",
    "mnb.fit(X, y)"
   ]
  },
  {
   "cell_type": "code",
   "execution_count": 398,
   "metadata": {},
   "outputs": [
    {
     "data": {
      "text/plain": [
       "Pipeline(memory=None,\n",
       "         steps=[('countvectorizer',\n",
       "                 CountVectorizer(analyzer='word', binary=False,\n",
       "                                 decode_error='strict',\n",
       "                                 dtype=<class 'numpy.int64'>, encoding='utf-8',\n",
       "                                 input='content', lowercase=True, max_df=0.85,\n",
       "                                 max_features=None, min_df=1,\n",
       "                                 ngram_range=(1, 1), preprocessor=None,\n",
       "                                 stop_words=None, strip_accents=None,\n",
       "                                 token_pattern='(?u)\\\\b\\\\w\\\\w+\\\\b',\n",
       "                                 tokenizer=None, vo...\n",
       "                                            learning_rate=0.1, loss='deviance',\n",
       "                                            max_depth=14, max_features='sqrt',\n",
       "                                            max_leaf_nodes=None,\n",
       "                                            min_impurity_decrease=0.0,\n",
       "                                            min_impurity_split=None,\n",
       "                                            min_samples_leaf=1,\n",
       "                                            min_samples_split=4,\n",
       "                                            min_weight_fraction_leaf=0.0,\n",
       "                                            n_estimators=510,\n",
       "                                            n_iter_no_change=None,\n",
       "                                            presort='deprecated',\n",
       "                                            random_state=None, subsample=0.9,\n",
       "                                            tol=0.0001, validation_fraction=0.1,\n",
       "                                            verbose=0, warm_start=False))],\n",
       "         verbose=False)"
      ]
     },
     "execution_count": 398,
     "metadata": {},
     "output_type": "execute_result"
    }
   ],
   "source": [
    "# GradientBoostingClassifier\n",
    "gbc = make_pipeline(CountVectorizer(min_df=1, ngram_range=(1, 1), max_df=0.85, stop_words=None),\n",
    "                    TfidfTransformer(),\n",
    "                    GradientBoostingClassifier(subsample=0.9, \n",
    "                                               n_estimators=510, \n",
    "                                               min_samples_split=4, \n",
    "                                               max_features='sqrt', \n",
    "                                               max_depth=14))\n",
    "gbc.fit(X, y)"
   ]
  },
  {
   "cell_type": "code",
   "execution_count": 399,
   "metadata": {},
   "outputs": [
    {
     "name": "stdout",
     "output_type": "stream",
     "text": [
      "500 | 500 | 500\n"
     ]
    }
   ],
   "source": [
    "lsvc_pred = lsvc.predict(X_test)\n",
    "mnb_pred = mnb.predict(X_test)\n",
    "gbc_pred = gbc.predict(X_test)\n",
    "\n",
    "print(len(lsvc_pred), '|', len(mnb_pred), '|', len(gbc_pred))"
   ]
  },
  {
   "cell_type": "code",
   "execution_count": 404,
   "metadata": {},
   "outputs": [],
   "source": [
    "with open('lsvc.csv', 'w') as f:\n",
    "    f.write(pd.DataFrame(pd.Series(map(str, range(0, 500))).str.cat(map(str, lsvc_pred), sep=','), \n",
    "                                 columns=['ID,y']).to_csv(sep=' ', index=False))\n",
    "\n",
    "with open('mnb.csv', 'w') as f:\n",
    "    f.write(pd.DataFrame(pd.Series(map(str, range(0, 500))).str.cat(map(str, mnb_pred), sep=','), \n",
    "                                 columns=['ID,y']).to_csv(sep=' ', index=False))\n",
    "\n",
    "with open('gbc.csv', 'w') as f:\n",
    "    f.write(pd.DataFrame(pd.Series(map(str, range(0, 500))).str.cat(map(str, gbc_pred), sep=','), \n",
    "                                 columns=['ID,y']).to_csv(sep=' ', index=False))"
   ]
  },
  {
   "cell_type": "code",
   "execution_count": null,
   "metadata": {},
   "outputs": [],
   "source": []
  }
 ],
 "metadata": {
  "kernelspec": {
   "display_name": "Python 3",
   "language": "python",
   "name": "python3"
  },
  "language_info": {
   "codemirror_mode": {
    "name": "ipython",
    "version": 3
   },
   "file_extension": ".py",
   "mimetype": "text/x-python",
   "name": "python",
   "nbconvert_exporter": "python",
   "pygments_lexer": "ipython3",
   "version": "3.7.6"
  }
 },
 "nbformat": 4,
 "nbformat_minor": 4
}
