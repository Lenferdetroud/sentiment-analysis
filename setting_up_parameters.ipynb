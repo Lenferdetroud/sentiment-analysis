{
 "cells": [
  {
   "cell_type": "code",
   "execution_count": 96,
   "metadata": {},
   "outputs": [
    {
     "name": "stderr",
     "output_type": "stream",
     "text": [
      "[nltk_data] Downloading package stopwords to\n",
      "[nltk_data]     /home/lenferdetroud/nltk_data...\n",
      "[nltk_data]   Package stopwords is already up-to-date!\n"
     ]
    }
   ],
   "source": [
    "from sklearn.feature_extraction.text import CountVectorizer, TfidfVectorizer\n",
    "from sklearn.pipeline import make_pipeline\n",
    "from sklearn.model_selection import cross_val_score\n",
    "from sklearn.linear_model import LogisticRegression, SGDClassifier\n",
    "from sklearn.svm import LinearSVC\n",
    "from nltk.corpus import movie_reviews\n",
    "nltk.download('stopwords')\n",
    "\n",
    "\n",
    "# model_building.ipynb\n",
    "\n",
    "negids = movie_reviews.fileids('neg')\n",
    "posids = movie_reviews.fileids('pos')\n",
    "\n",
    "negfeats = [movie_reviews.words(fileids=[f]) for f in negids]\n",
    "posfeats = [movie_reviews.words(fileids=[f]) for f in posids]\n",
    "\n",
    "allfeats = [' '.join(x) for x in negfeats] + [' '.join(x) for x in posfeats]\n",
    "labels = [0] * len(negfeats) + [1] * len(posfeats)"
   ]
  },
  {
   "cell_type": "code",
   "execution_count": 97,
   "metadata": {},
   "outputs": [
    {
     "name": "stdout",
     "output_type": "stream",
     "text": [
      "pipe_cvect: [0.815  0.84   0.8375 0.8675 0.845 ]\n",
      "pipe_tfidf: [0.8225 0.825  0.825  0.815  0.8175]\n"
     ]
    }
   ],
   "source": [
    "# creating pipelines\n",
    "\n",
    "cv = 5\n",
    "cvect = CountVectorizer()\n",
    "logreg = LogisticRegression(solver='liblinear')\n",
    "tfidf = TfidfVectorizer()\n",
    "\n",
    "# countvect-logreg pipeline\n",
    "pipe_cvect = make_pipeline(cvect, logreg)\n",
    "score_cvect = cross_val_score(pipe_cvect, allfeats, labels, cv=cv)\n",
    "\n",
    "# tfidf-logreg pipeline\n",
    "pipe_tfidf = make_pipeline(tfidf, logreg)\n",
    "score_tfidf = cross_val_score(pipe_tfidf, allfeats, labels, cv=cv)\n",
    "\n",
    "\n",
    "# cross validation scores\n",
    "print('pipe_cvect:', score_cvect)\n",
    "print('pipe_tfidf:', score_tfidf)"
   ]
  },
  {
   "cell_type": "code",
   "execution_count": 38,
   "metadata": {},
   "outputs": [
    {
     "name": "stdout",
     "output_type": "stream",
     "text": [
      "pipe_cvect mean: 0.841\n",
      "pipe_tfidf mean: 0.821\n"
     ]
    }
   ],
   "source": [
    "# means (accuracy)\n",
    "print('pipe_cvect mean:', round(score_cvect.mean(), 3))\n",
    "print('pipe_tfidf mean:', round(score_tfidf.mean(), 3))"
   ]
  },
  {
   "cell_type": "code",
   "execution_count": 39,
   "metadata": {},
   "outputs": [
    {
     "name": "stdout",
     "output_type": "stream",
     "text": [
      "pipe_cvect std: 0.01678\n",
      "pipe_tfidf std: 0.00406\n"
     ]
    }
   ],
   "source": [
    "# stanard deviations\n",
    "print('pipe_cvect std:', round(score_cvect.std(), 5))\n",
    "print('pipe_tfidf std:', round(score_tfidf.std(), 5))"
   ]
  },
  {
   "cell_type": "code",
   "execution_count": 40,
   "metadata": {},
   "outputs": [
    {
     "name": "stdout",
     "output_type": "stream",
     "text": [
      "accuracy: 0.839\n"
     ]
    }
   ],
   "source": [
    "# setting different min_df values \n",
    "# ignoring terms that have a document frequency strictly lower than the given threshold\n",
    "\n",
    "# min_df = 10\n",
    "cvect_mindf1 = CountVectorizer(min_df=10)\n",
    "\n",
    "pipe_cvect_mindf1 = make_pipeline(cvect_mindf1, logreg)\n",
    "score_cvect_mindf1 = cross_val_score(pipe_cvect_mindf1, allfeats, labels, cv=cv)\n",
    "\n",
    "print('accuracy:', round(score_cvect_mindf1.mean(), 3))"
   ]
  },
  {
   "cell_type": "code",
   "execution_count": 41,
   "metadata": {},
   "outputs": [
    {
     "name": "stdout",
     "output_type": "stream",
     "text": [
      "accuracy: 0.813\n"
     ]
    }
   ],
   "source": [
    "# min_df = 50\n",
    "cvect_mindf2 = CountVectorizer(min_df=50)\n",
    "\n",
    "pipe_cvect_mindf2 = make_pipeline(cvect_mindf2, logreg)\n",
    "score_cvect_mindf2 = cross_val_score(pipe_cvect_mindf2, allfeats, labels, cv=cv)\n",
    "\n",
    "print('accuracy:', round(score_cvect_mindf2.mean(), 3))"
   ]
  },
  {
   "cell_type": "code",
   "execution_count": 42,
   "metadata": {},
   "outputs": [
    {
     "name": "stdout",
     "output_type": "stream",
     "text": [
      "accuracy: 0.782\n"
     ]
    }
   ],
   "source": [
    "# min_df = 100\n",
    "cvect_mindf3 = CountVectorizer(min_df=100)\n",
    "\n",
    "pipe_cvect_mindf3 = make_pipeline(cvect_mindf3, logreg)\n",
    "score_cvect_mindf3 = cross_val_score(pipe_cvect_mindf3, allfeats, labels, cv=cv)\n",
    "\n",
    "print('accuracy:', round(score_cvect_mindf3.mean(), 3))"
   ]
  },
  {
   "cell_type": "code",
   "execution_count": 92,
   "metadata": {},
   "outputs": [
    {
     "name": "stderr",
     "output_type": "stream",
     "text": [
      "/home/lenferdetroud/anaconda3/lib/python3.7/site-packages/sklearn/svm/_base.py:947: ConvergenceWarning: Liblinear failed to converge, increase the number of iterations.\n",
      "  \"the number of iterations.\", ConvergenceWarning)\n"
     ]
    }
   ],
   "source": [
    "# using different classifiers with CountVectorizer\n",
    "\n",
    "lsvc = LinearSVC()\n",
    "sgd = SGDClassifier()\n",
    "\n",
    "# linear SVC\n",
    "pipe_cvect_lsvc = make_pipeline(cvect, lsvc)\n",
    "score_cvect_lsvc = cross_val_score(pipe_cvect_lsvc, allfeats, labels, cv=cv)\n",
    "\n",
    "# SGD\n",
    "pipe_cvect_sgd = make_pipeline(cvect, sgd)\n",
    "score_cvect_sgd = cross_val_score(pipe_cvect_sgd, allfeats, labels, cv=cv)"
   ]
  },
  {
   "cell_type": "code",
   "execution_count": 93,
   "metadata": {},
   "outputs": [
    {
     "name": "stdout",
     "output_type": "stream",
     "text": [
      "accuracy (linear SVC): 0.833\n",
      "accuracy (SGD): 0.794\n"
     ]
    }
   ],
   "source": [
    "print('accuracy (linear SVC):', round(score_cvect_lsvc.mean(), 3))\n",
    "print('accuracy (SGD):', round(score_cvect_sgd.mean(), 3))"
   ]
  },
  {
   "cell_type": "code",
   "execution_count": 99,
   "metadata": {},
   "outputs": [
    {
     "name": "stdout",
     "output_type": "stream",
     "text": [
      "['i', 'me', 'my', 'myself', 'we', 'our', 'ours', 'ourselves', 'you', \"you're\", \"you've\", \"you'll\", \"you'd\", 'your', 'yours', 'yourself', 'yourselves', 'he', 'him', 'his', 'himself', 'she', \"she's\", 'her', 'hers', 'herself', 'it', \"it's\", 'its', 'itself', 'they', 'them', 'their', 'theirs', 'themselves', 'what', 'which', 'who', 'whom', 'this', 'that', \"that'll\", 'these', 'those', 'am', 'is', 'are', 'was', 'were', 'be', 'been', 'being', 'have', 'has', 'had', 'having', 'do', 'does', 'did', 'doing', 'a', 'an', 'the', 'and', 'but', 'if', 'or', 'because', 'as', 'until', 'while', 'of', 'at', 'by', 'for', 'with', 'about', 'against', 'between', 'into', 'through', 'during', 'before', 'after', 'above', 'below', 'to', 'from', 'up', 'down', 'in', 'out', 'on', 'off', 'over', 'under', 'again', 'further', 'then', 'once', 'here', 'there', 'when', 'where', 'why', 'how', 'all', 'any', 'both', 'each', 'few', 'more', 'most', 'other', 'some', 'such', 'no', 'nor', 'not', 'only', 'own', 'same', 'so', 'than', 'too', 'very', 's', 't', 'can', 'will', 'just', 'don', \"don't\", 'should', \"should've\", 'now', 'd', 'll', 'm', 'o', 're', 've', 'y', 'ain', 'aren', \"aren't\", 'couldn', \"couldn't\", 'didn', \"didn't\", 'doesn', \"doesn't\", 'hadn', \"hadn't\", 'hasn', \"hasn't\", 'haven', \"haven't\", 'isn', \"isn't\", 'ma', 'mightn', \"mightn't\", 'mustn', \"mustn't\", 'needn', \"needn't\", 'shan', \"shan't\", 'shouldn', \"shouldn't\", 'wasn', \"wasn't\", 'weren', \"weren't\", 'won', \"won't\", 'wouldn', \"wouldn't\"]\n"
     ]
    }
   ],
   "source": [
    "stop_words = nltk.corpus.stopwords.words('english')\n",
    "print(stop_words)"
   ]
  },
  {
   "cell_type": "code",
   "execution_count": 105,
   "metadata": {},
   "outputs": [
    {
     "name": "stdout",
     "output_type": "stream",
     "text": [
      "accuracy: 0.841\n"
     ]
    }
   ],
   "source": [
    "# using stop-words \n",
    "\n",
    "# nltk set\n",
    "cvect_sw_nltk = CountVectorizer(stop_words=stop_words)\n",
    "\n",
    "pipe_cvect_sw_nltk = make_pipeline(cvect_sw_nltk, logreg)\n",
    "score_cvect_sw_nltk = cross_val_score(pipe_cvect_sw_nltk, allfeats, labels, cv=cv)\n",
    "\n",
    "print('accuracy:', round(score_cvect_sw_nltk.mean(), 3))"
   ]
  },
  {
   "cell_type": "code",
   "execution_count": 106,
   "metadata": {},
   "outputs": [
    {
     "name": "stdout",
     "output_type": "stream",
     "text": [
      "accuracy: 0.839\n"
     ]
    }
   ],
   "source": [
    "# sklearn set\n",
    "cvect_sw_sklearn = CountVectorizer(stop_words='english')\n",
    "\n",
    "pipe_cvect_sw_sklearn = make_pipeline(cvect_sw_sklearn, logreg)\n",
    "score_cvect_sw_sklearn = cross_val_score(pipe_cvect_sw_sklearn, allfeats, labels, cv=cv)\n",
    "\n",
    "print('accuracy:', round(score_cvect_sw_sklearn.mean(), 3))"
   ]
  },
  {
   "cell_type": "code",
   "execution_count": 107,
   "metadata": {},
   "outputs": [
    {
     "name": "stdout",
     "output_type": "stream",
     "text": [
      "accuracy: 0.852\n"
     ]
    }
   ],
   "source": [
    "# adding n-grams\n",
    "\n",
    "# bigrams\n",
    "cvect_bg = CountVectorizer(ngram_range=(1, 2))\n",
    "\n",
    "pipe_cvect_bg = make_pipeline(cvect_bg, logreg)\n",
    "score_cvect_bg = cross_val_score(pipe_cvect_bg, allfeats, labels, cv=cv)\n",
    "\n",
    "print('accuracy:', round(score_cvect_bg.mean(), 3))"
   ]
  },
  {
   "cell_type": "code",
   "execution_count": 108,
   "metadata": {},
   "outputs": [
    {
     "name": "stdout",
     "output_type": "stream",
     "text": [
      "accuracy: 0.82\n"
     ]
    }
   ],
   "source": [
    "# n-grams (3 <= n <= 5)\n",
    "cvect_ng = CountVectorizer(analyzer='char_wb', ngram_range=(3, 5))\n",
    "\n",
    "pipe_cvect_ng = make_pipeline(cvect_ng, logreg)\n",
    "score_cvect_ng = cross_val_score(pipe_cvect_ng, allfeats, labels, cv=cv)\n",
    "\n",
    "print('accuracy:', round(score_cvect_ng.mean(), 3))"
   ]
  },
  {
   "cell_type": "code",
   "execution_count": null,
   "metadata": {},
   "outputs": [],
   "source": []
  }
 ],
 "metadata": {
  "kernelspec": {
   "display_name": "Python 3",
   "language": "python",
   "name": "python3"
  },
  "language_info": {
   "codemirror_mode": {
    "name": "ipython",
    "version": 3
   },
   "file_extension": ".py",
   "mimetype": "text/x-python",
   "name": "python",
   "nbconvert_exporter": "python",
   "pygments_lexer": "ipython3",
   "version": "3.7.6"
  }
 },
 "nbformat": 4,
 "nbformat_minor": 4
}
